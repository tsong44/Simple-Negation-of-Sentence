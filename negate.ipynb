{
  "cells": [
    {
      "cell_type": "markdown",
      "metadata": {
        "id": "view-in-github",
        "colab_type": "text"
      },
      "source": [
        "<a href=\"https://colab.research.google.com/github/tsong44/Simple-Negation-of-Sentence/blob/main/negate.ipynb\" target=\"_parent\"><img src=\"https://colab.research.google.com/assets/colab-badge.svg\" alt=\"Open In Colab\"/></a>"
      ]
    },
    {
      "cell_type": "code",
      "source": [
        "import itertools\n",
        "\n",
        "d1=['He','is','a','boy']\n",
        "list1 = ['PN','AU','DT','NN']\n",
        "\n",
        "d2=['She', 'does', 'loves','cricket']\n",
        "#print(len(d2))\n",
        "list2 = ['PN', 'AU', 'VB','NN']\n",
        "\n",
        "d3=['I','am','a','girl']\n",
        "list3 = ['PN','AU','DT','NN']\n",
        "#print(d3[1])\n",
        "\n",
        "d4=['The', 'room', 'smells', 'clean']\n",
        "list4 = ['DT','AU','VB','NN']\n",
        " \n",
        "d5=['It','is','a','nice','day']\n",
        "list5 =['PN','AU','DT','AD','NN']"
      ],
      "metadata": {
        "id": "idgEubE8neJk"
      },
      "execution_count": 5,
      "outputs": []
    },
    {
      "cell_type": "code",
      "source": [
        "#negate\n",
        "lists = [list1, list2, list3, list4, list5]\n",
        "dlists = [d1, d2, d3, d4, d5]\n",
        "for lst, d in zip(lists, dlists):\n",
        "    for i in range(len(lst)):\n",
        "        if lst[i] == 'AU':\n",
        "            d[i] += \" not\"\n",
        "    print(str(d1))\n",
        "    print(str(d2))\n",
        "    print(str(d3))\n",
        "    print(str(d4))\n",
        "    print(str(d5))"
      ],
      "metadata": {
        "colab": {
          "base_uri": "https://localhost:8080/"
        },
        "id": "xg_NVf5kxWio",
        "outputId": "90230c5e-3c91-4a3f-f502-371fd9d63eec"
      },
      "execution_count": 6,
      "outputs": [
        {
          "output_type": "stream",
          "name": "stdout",
          "text": [
            "['He', 'is not', 'a', 'boy']\n",
            "['She', 'does', 'loves', 'cricket']\n",
            "['I', 'am', 'a', 'girl']\n",
            "['The', 'room', 'smells', 'clean']\n",
            "['It', 'is', 'a', 'nice', 'day']\n",
            "['He', 'is not', 'a', 'boy']\n",
            "['She', 'does not', 'loves', 'cricket']\n",
            "['I', 'am', 'a', 'girl']\n",
            "['The', 'room', 'smells', 'clean']\n",
            "['It', 'is', 'a', 'nice', 'day']\n",
            "['He', 'is not', 'a', 'boy']\n",
            "['She', 'does not', 'loves', 'cricket']\n",
            "['I', 'am not', 'a', 'girl']\n",
            "['The', 'room', 'smells', 'clean']\n",
            "['It', 'is', 'a', 'nice', 'day']\n",
            "['He', 'is not', 'a', 'boy']\n",
            "['She', 'does not', 'loves', 'cricket']\n",
            "['I', 'am not', 'a', 'girl']\n",
            "['The', 'room not', 'smells', 'clean']\n",
            "['It', 'is', 'a', 'nice', 'day']\n",
            "['He', 'is not', 'a', 'boy']\n",
            "['She', 'does not', 'loves', 'cricket']\n",
            "['I', 'am not', 'a', 'girl']\n",
            "['The', 'room not', 'smells', 'clean']\n",
            "['It', 'is not', 'a', 'nice', 'day']\n"
          ]
        }
      ]
    }
  ],
  "metadata": {
    "colab": {
      "collapsed_sections": [],
      "provenance": [],
      "authorship_tag": "ABX9TyNU8BLeCYXxwM3QYnrQnikV",
      "include_colab_link": true
    },
    "kernelspec": {
      "display_name": "Python 3",
      "name": "python3"
    },
    "language_info": {
      "name": "python"
    }
  },
  "nbformat": 4,
  "nbformat_minor": 0
}