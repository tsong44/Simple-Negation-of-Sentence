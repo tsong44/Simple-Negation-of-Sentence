{
  "cells": [
    {
      "cell_type": "markdown",
      "metadata": {
        "id": "view-in-github",
        "colab_type": "text"
      },
      "source": [
        "<a href=\"https://colab.research.google.com/github/tsong44/Simple-Negation-of-Sentence/blob/main/negate2.ipynb\" target=\"_parent\"><img src=\"https://colab.research.google.com/assets/colab-badge.svg\" alt=\"Open In Colab\"/></a>"
      ]
    },
    {
      "cell_type": "code",
      "source": [
        "import itertools\n",
        "\n",
        "d1=['He','is','a','boy']\n",
        "list1 = ['PN','AU','DT','NN']\n",
        "\n",
        "d2=['She', 'loves','cricket']\n",
        "#print(len(d2))\n",
        "list2 = ['PN', 'VB', 'NN']\n",
        "\n",
        "d3=['I','am','a','girl']\n",
        "list3 = ['PN','AU','DT','NN']\n",
        "#print(d3[1])\n",
        "\n",
        "d4=['The', 'room', 'smells', 'clean']\n",
        "list4 = ['DT','AU','VB','NN']\n",
        " \n",
        "d5=['It','is','a','nice','day']\n",
        "list5 =['PN','AU','DT','AD','NN']"
      ],
      "metadata": {
        "id": "idgEubE8neJk"
      },
      "execution_count": 1,
      "outputs": []
    },
    {
      "cell_type": "code",
      "source": [
        "#negate\n",
        "lists = [list1, list3, list4, list5]\n",
        "dlists = [d1, d3, d4, d5]\n",
        "for lst, d in zip(lists, dlists):\n",
        "    for i in range(len(lst)):\n",
        "        if lst[i] == 'AU':\n",
        "            d[i]+=\" not\"\n",
        "    print(str(d))"
      ],
      "metadata": {
        "colab": {
          "base_uri": "https://localhost:8080/"
        },
        "id": "xg_NVf5kxWio",
        "outputId": "86f3eccd-903b-4f9f-a77f-e5d3143b51ac"
      },
      "execution_count": 95,
      "outputs": [
        {
          "output_type": "stream",
          "name": "stdout",
          "text": [
            "['She', 'were not not', 'were not', 'write', 'letter']\n",
            "['I', 'am not not', 'a', 'girl']\n",
            "['The', 'room not not', 'smells', 'clean']\n",
            "['It', 'is not not', 'a', 'nice', 'day']\n"
          ]
        }
      ]
    },
    {
      "cell_type": "code",
      "source": [
        "import random\n",
        "\n",
        "d11=\"She write letter\"\n",
        "d1=d11.split()\n",
        "print(d1)\n",
        "\n",
        "AU=['has', 'have', 'had', 'does', 'do',  'am', 'is', 'are', 'was', 'were', 'being', 'been','will','shall',]\n",
        "VB=['wears','smells','love','goes','talk','write','read']\n",
        "SIN_NP=['he','she','it','i','you']\n",
        "PLU_NP=['they','we']\n",
        "\n"
      ],
      "metadata": {
        "colab": {
          "base_uri": "https://localhost:8080/"
        },
        "id": "VKGESdslPsqu",
        "outputId": "e05f4446-5cfd-4dd0-9852-a95a4cacf2a9"
      },
      "execution_count": 125,
      "outputs": [
        {
          "output_type": "stream",
          "name": "stdout",
          "text": [
            "['She', 'write', 'letter']\n"
          ]
        }
      ]
    },
    {
      "cell_type": "code",
      "source": [
        "#negate for AU\n",
        "for x in range(len(AU)):\n",
        "  for y in range(len(d1)):\n",
        "     if AU[x] == d1[y]:\n",
        "      d1.insert(y + 1,\"not\")\n",
        "print(d1)\n"
      ],
      "metadata": {
        "colab": {
          "base_uri": "https://localhost:8080/"
        },
        "id": "p9jFFVlQWAuD",
        "outputId": "44e49830-c649-4fcb-e3a5-edf1b05d2256"
      },
      "execution_count": 107,
      "outputs": [
        {
          "output_type": "stream",
          "name": "stdout",
          "text": [
            "['She', 'write', 'letter']\n"
          ]
        }
      ]
    },
    {
      "cell_type": "code",
      "source": [
        "negate = random.choice(AU) + \" not\"\n",
        "#negate for verb\n",
        "for x in range(len(VB)):\n",
        "  for y in range(len(d1)):\n",
        "    if VB[x] == d1[y]:\n",
        "       d1.insert(y, negate)\n",
        "final_new_menu = list(dict.fromkeys(d1))\n",
        "listToStr = ' '.join([str(elem) for elem in final_new_menu])\n",
        "print(listToStr)"
      ],
      "metadata": {
        "colab": {
          "base_uri": "https://localhost:8080/"
        },
        "id": "1mIIXBQVdvpr",
        "outputId": "d5d107da-7865-49f5-a2d9-8a756b454c28"
      },
      "execution_count": 126,
      "outputs": [
        {
          "output_type": "stream",
          "name": "stdout",
          "text": [
            "She do not write letter\n"
          ]
        }
      ]
    }
  ],
  "metadata": {
    "colab": {
      "collapsed_sections": [],
      "provenance": [],
      "authorship_tag": "ABX9TyOhQ9XcfkED8fuzDoDVyjDU",
      "include_colab_link": true
    },
    "kernelspec": {
      "display_name": "Python 3",
      "name": "python3"
    },
    "language_info": {
      "name": "python"
    }
  },
  "nbformat": 4,
  "nbformat_minor": 0
}